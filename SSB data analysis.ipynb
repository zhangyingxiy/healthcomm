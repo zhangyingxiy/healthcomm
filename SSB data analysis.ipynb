{
 "cells": [
  {
   "cell_type": "code",
   "execution_count": 31,
   "id": "8c851182-f180-4d2b-b45b-cfdda33dafdc",
   "metadata": {
    "tags": []
   },
   "outputs": [],
   "source": [
    "from scipy import stats\n",
    "import numpy as np\n",
    "import pandas as pd\n",
    "\n",
    "df = pd.read_csv(\"SSBendline.csv\")\n",
    "df.drop(columns=df.columns[:17], \n",
    "        axis=1, \n",
    "        inplace=True)\n",
    "\n",
    "df = df.fillna(0)\n",
    "df = df.drop(df.index[range(2)])\n",
    "\n",
    "sum_column = (df.Q23_1).astype(int) + (df.Q23_2).astype(int) + (df.Q23_3).astype(int) + (df.Q23_4).astype(int)\n",
    "mean = sum_column / 4\n",
    "df[\"efficacy\"] = mean\n",
    "\n",
    "crosstab = pd.crosstab(df['Q26'], df['Q31'])\n",
    "crosstab1 = pd.crosstab(df['Q26'], df['Q12_1'])\n",
    "crosstab2 = pd.crosstab(df['Q26'], df['Q19'])\n",
    "\n"
   ]
  },
  {
   "cell_type": "code",
   "execution_count": 30,
   "id": "d5907cca-0df2-4e91-be41-cbf1f3494459",
   "metadata": {},
   "outputs": [
    {
     "data": {
      "text/plain": [
       "(116.5359238778003,\n",
       " 2.5490159187046052e-20,\n",
       " 10,\n",
       " array([[ 4.28813559,  0.37288136,  1.30508475,  4.10169492,  8.20338983,\n",
       "          3.72881356],\n",
       "        [ 7.60169492,  0.66101695,  2.31355932,  7.27118644, 14.54237288,\n",
       "          6.61016949],\n",
       "        [11.11016949,  0.96610169,  3.38135593, 10.62711864, 21.25423729,\n",
       "          9.66101695]]))"
      ]
     },
     "execution_count": 30,
     "metadata": {},
     "output_type": "execute_result"
    }
   ],
   "source": [
    "#message exposure and intention\n",
    "stats.chi2_contingency(crosstab)"
   ]
  },
  {
   "cell_type": "code",
   "execution_count": 16,
   "id": "3eb3b734-0be4-41a8-b540-b07fcf108863",
   "metadata": {
    "tags": []
   },
   "outputs": [
    {
     "data": {
      "text/plain": [
       "(100.62806321134975,\n",
       " 4.0798267245558785e-17,\n",
       " 10,\n",
       " array([[ 3.91525424,  0.55932203,  2.61016949,  4.10169492,  7.27118644,\n",
       "          3.54237288],\n",
       "        [ 6.94067797,  0.99152542,  4.62711864,  7.27118644, 12.88983051,\n",
       "          6.27966102],\n",
       "        [10.1440678 ,  1.44915254,  6.76271186, 10.62711864, 18.83898305,\n",
       "          9.1779661 ]]))"
      ]
     },
     "execution_count": 16,
     "metadata": {},
     "output_type": "execute_result"
    }
   ],
   "source": [
    "#message exposure and perceived importance to reduce consumption\n",
    "stats.chi2_contingency(crosstab1)"
   ]
  },
  {
   "cell_type": "code",
   "execution_count": 12,
   "id": "8d84c7bc-9b8a-4be1-955c-2b92a73a990f",
   "metadata": {},
   "outputs": [
    {
     "data": {
      "text/plain": [
       "(103.41720811241564,\n",
       " 1.125938087705341e-17,\n",
       " 10,\n",
       " array([[ 3.54237288,  1.11864407,  1.86440678,  5.03389831,  7.6440678 ,\n",
       "          2.79661017],\n",
       "        [ 6.27966102,  1.98305085,  3.30508475,  8.92372881, 13.55084746,\n",
       "          4.95762712],\n",
       "        [ 9.1779661 ,  2.89830508,  4.83050847, 13.04237288, 19.80508475,\n",
       "          7.24576271]]))"
      ]
     },
     "execution_count": 12,
     "metadata": {},
     "output_type": "execute_result"
    }
   ],
   "source": [
    "#message exposure and intention of drinking with friends \n",
    "stats.chi2_contingency(crosstab2)"
   ]
  },
  {
   "cell_type": "code",
   "execution_count": 8,
   "id": "195a9d70-f6a1-43ea-b7da-2dbfc8d9f098",
   "metadata": {},
   "outputs": [
    {
     "data": {
      "text/plain": [
       "Ttest_indResult(statistic=-1.6712436347422488, pvalue=0.11297848435848984)"
      ]
     },
     "execution_count": 8,
     "metadata": {},
     "output_type": "execute_result"
    }
   ],
   "source": [
    "#message exposure and SSB consumption in the past 7 days\n",
    "exposure = df.loc[df['Q26'] == \"1\", 'Q16'].value_counts()\n",
    "no_exposure = df.loc[df['Q26'] == \"2\", 'Q16'].value_counts()\n",
    "stats.ttest_ind(a=exposure, b=no_exposure, equal_var=True)"
   ]
  },
  {
   "cell_type": "code",
   "execution_count": 20,
   "id": "50069ea9-6ada-4952-aec2-47afde788fef",
   "metadata": {},
   "outputs": [
    {
     "data": {
      "text/plain": [
       "Ttest_indResult(statistic=1.5083873389008373, pvalue=0.13480923297150993)"
      ]
     },
     "execution_count": 20,
     "metadata": {},
     "output_type": "execute_result"
    }
   ],
   "source": [
    "#message exposure and perceived self efficiency\n",
    "exposure_ef = df.loc[df['Q26'] == \"1\", 'efficacy']\n",
    "no_exposure_ef = df.loc[df['Q26'] == \"2\", 'efficacy']\n",
    "stats.ttest_ind(a=exposure_ef, b=no_exposure_ef, equal_var=True)"
   ]
  },
  {
   "cell_type": "code",
   "execution_count": 24,
   "id": "00a80f38-0c83-4afd-b75a-e7e6f5382e2e",
   "metadata": {},
   "outputs": [
    {
     "data": {
      "text/plain": [
       "Ttest_indResult(statistic=-2.364270611137305, pvalue=0.03197791743247977)"
      ]
     },
     "execution_count": 24,
     "metadata": {},
     "output_type": "execute_result"
    }
   ],
   "source": [
    "#instagram follows and SSB consumption in the past 7 days\n",
    "exposure = df.loc[df['Q32'] == \"1\", 'Q16'].value_counts()\n",
    "no_exposure = df.loc[df['Q32'] == \"2\", 'Q16'].value_counts()\n",
    "stats.ttest_ind(a=exposure, b=no_exposure, equal_var=True)"
   ]
  },
  {
   "cell_type": "code",
   "execution_count": 25,
   "id": "76b12664-c80b-4807-823c-dcd1791d3e05",
   "metadata": {},
   "outputs": [
    {
     "data": {
      "text/plain": [
       "(95.21862618441807,\n",
       " 4.912889576536513e-16,\n",
       " 10,\n",
       " array([[ 4.09322034,  0.58474576,  2.72881356,  4.28813559,  7.60169492,\n",
       "          3.70338983],\n",
       "        [ 3.91525424,  0.55932203,  2.61016949,  4.10169492,  7.27118644,\n",
       "          3.54237288],\n",
       "        [12.99152542,  1.8559322 ,  8.66101695, 13.61016949, 24.12711864,\n",
       "         11.75423729]]))"
      ]
     },
     "execution_count": 25,
     "metadata": {},
     "output_type": "execute_result"
    }
   ],
   "source": [
    "#instagram follows and perceived importance to reduce consumption\n",
    "crosstab3 = pd.crosstab(df['Q32'], df['Q12_1'])\n",
    "stats.chi2_contingency(crosstab3)"
   ]
  },
  {
   "cell_type": "code",
   "execution_count": null,
   "id": "e201e27e-a82b-4e3a-88cc-00aba5d4b60e",
   "metadata": {},
   "outputs": [],
   "source": []
  }
 ],
 "metadata": {
  "kernelspec": {
   "display_name": "Python 3 (ipykernel)",
   "language": "python",
   "name": "python3"
  },
  "language_info": {
   "codemirror_mode": {
    "name": "ipython",
    "version": 3
   },
   "file_extension": ".py",
   "mimetype": "text/x-python",
   "name": "python",
   "nbconvert_exporter": "python",
   "pygments_lexer": "ipython3",
   "version": "3.9.7"
  }
 },
 "nbformat": 4,
 "nbformat_minor": 5
}
